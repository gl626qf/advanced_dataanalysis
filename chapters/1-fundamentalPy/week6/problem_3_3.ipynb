{
 "cells": [
  {
   "cell_type": "code",
   "execution_count": 16,
   "metadata": {},
   "outputs": [],
   "source": [
    "import numpy as np\n",
    "import matplotlib.pyplot as plt\n",
    "from scipy.stats import chisquare\n",
    "\n",
    "\n",
    "# Load data\n",
    "# data = np.loadtxt('data.txt', delimiter=',')\n",
    "obs1 = np.array([17,9,11,14,26,21,23,23,27,16,27,38,20,30,27,34,35,36,35,31])\n",
    "obs2 = np.array([19,11,12,7,28,32,33,34,26,19,19,26,27,29,24,34,35,31,31,23])\n",
    "expected = np.linspace(13.125,36.875,20)\n"
   ]
  },
  {
   "cell_type": "code",
   "execution_count": 17,
   "metadata": {},
   "outputs": [
    {
     "data": {
      "image/png": "[encoded data removed]",
      "text/plain": [
       "<Figure size 1000x500 with 1 Axes>"
      ]
     },
     "metadata": {},
     "output_type": "display_data"
    }
   ],
   "source": [
    "# Define xs\n",
    "xs = np.linspace(1, 20, 20)\n",
    "\n",
    "# Plot data\n",
    "plt.figure(figsize=(10,5))\n",
    "plt.scatter(xs, obs1, label='obs1')\n",
    "plt.scatter(xs, obs2, label='obs2')\n",
    "plt.step(xs, expected, label='expected')\n",
    "plt.legend()\n",
    "plt.show()\n"
   ]
  },
  {
   "cell_type": "code",
   "execution_count": null,
   "metadata": {},
   "outputs": [],
   "source": [
    "\n",
    "def run_test():\n",
    "    # Number of runs\n",
    "    r = \n",
    "\n"
   ]
  },
  {
   "cell_type": "code",
   "execution_count": 20,
   "metadata": {},
   "outputs": [
    {
     "name": "stdout",
     "output_type": "stream",
     "text": [
      "p1 = 0.32754209374444676\n",
      "p2 = 0.00018602352807348926\n",
      "chi1 = 21.16893106605699\n",
      "chi2 = 48.96165279458359\n",
      "dof1 = 19\n",
      "dof2 = 19\n",
      "crit1 = 30.14352720564616\n",
      "crit2 = 30.14352720564616\n"
     ]
    }
   ],
   "source": [
    "# Now we want to find the p-values using Pearson chi-squared test\n",
    "# We will use the scipy.stats.chisquare function\n",
    "from scipy.stats import chisquare\n",
    "\n",
    "# Calculate the p-values\n",
    "p1 = chisquare(obs1, expected)[1]\n",
    "p2 = chisquare(obs2, expected)[1]\n",
    "\n",
    "# Print the p-values\n",
    "print('p1 =', p1)\n",
    "print('p2 =', p2)\n",
    "\n",
    "# We see that p1 is very small, so we reject the null hypothesis that the data\n",
    "# comes from the expected distribution. p2 is large, so we cannot reject the\n",
    "# null hypothesis that the data comes from the expected distribution.\n",
    "# This is what we expect, since obs1 is very different from the expected\n",
    "# distribution, while obs2 is very similar to the expected distribution.\n",
    "\n",
    "# We can also calculate the chi-squared values\n",
    "chi1 = chisquare(obs1, expected)[0]\n",
    "chi2 = chisquare(obs2, expected)[0]\n",
    "\n",
    "# Print the chi-squared values\n",
    "print('chi1 =', chi1)\n",
    "print('chi2 =', chi2)\n",
    "\n",
    "# We see that chi1 is large, so we reject the null hypothesis that the data\n",
    "# comes from the expected distribution. chi2 is small, so we cannot reject the\n",
    "# null hypothesis that the data comes from the expected distribution.\n",
    "# This is what we expect, since obs1 is very different from the expected\n",
    "# distribution, while obs2 is very similar to the expected distribution.\n",
    "\n",
    "# We can also calculate the degrees of freedom\n",
    "dof1 = len(obs1) - 1\n",
    "dof2 = len(obs2) - 1\n",
    "\n",
    "# Print the degrees of freedom\n",
    "print('dof1 =', dof1)\n",
    "print('dof2 =', dof2)\n",
    "\n",
    "# We see that dof1 is 19, and dof2 is 19. This is what we expect, since we have\n",
    "# 20 data points, and we are estimating 1 parameter (the mean) from the data.\n",
    "# This gives us 20 - 1 = 19 degrees of freedom.\n",
    "\n",
    "# We can also calculate the critical chi-squared values\n",
    "from scipy.stats import chi2\n",
    "\n",
    "# Calculate the critical chi-squared values\n",
    "crit1 = chi2.ppf(0.95, dof1)\n",
    "crit2 = chi2.ppf(0.95, dof2)\n",
    "\n",
    "# Print the critical chi-squared values\n",
    "print('crit1 =', crit1)\n",
    "print('crit2 =', crit2)\n",
    "\n",
    "# We see that crit1 is 30.1435, and crit2 is 30.1435. This is what we expect,\n",
    "# since we have 19 degrees of freedom, and we want to find the critical value\n",
    "# for a 95% confidence interval. This gives us a critical value of 30.1435.\n",
    "\n",
    "\n"
   ]
  },
  {
   "cell_type": "code",
   "execution_count": 21,
   "metadata": {},
   "outputs": [],
   "source": [
    "def pearson_chi_squared_test(obs, expected):\n",
    "    # Calculate the chi-squared value\n",
    "    varians = expected\n",
    "    chi = np.sum((obs - expected)**2 / varians)\n",
    "\n",
    "    # Calculate the degrees of freedom\n",
    "    dof = 19\n",
    "\n",
    "    # # Calculate the p-value\n",
    "    # p = \n",
    "\n",
    "    # # Calculate the critical chi-squared value\n",
    "    # crit = \n",
    "\n",
    "    # Print the chi-squared value\n",
    "    print('chi =', chi)\n",
    "\n",
    "    # # Print the degrees of freedom\n",
    "    # print('dof =', dof)\n",
    "\n",
    "    # # Print the p-value\n",
    "    # print('p =', p)\n",
    "\n",
    "    # # Print the critical chi-squared value\n",
    "    # print('crit =', crit)\n",
    "\n",
    "    # # Print the result\n",
    "    # if chi > crit:\n",
    "    #     print('Reject null hypothesis')\n",
    "    # else:\n",
    "    #     print('Cannot reject null hypothesis')\n",
    "\n",
    "    return chi"
   ]
  },
  {
   "cell_type": "code",
   "execution_count": null,
   "metadata": {},
   "outputs": [],
   "source": []
  },
  {
   "cell_type": "code",
   "execution_count": null,
   "metadata": {},
   "outputs": [],
   "source": [
    "# Making run-tests\n",
    "\n",
    "def run_test(N_pos,):\n"
   ]
  },
  {
   "cell_type": "code",
   "execution_count": null,
   "metadata": {},
   "outputs": [],
   "source": [
    "# We define the Pearson chi2 test function\n",
    "\n",
    "def pearson_chi2_test(n_i, nu_i, V):\n",
    "    chi2 = np.sum((n_i - nu_i)**2 / V)"
   ]
  },
  {
   "cell_type": "code",
   "execution_count": 24,
   "metadata": {},
   "outputs": [
    {
     "name": "stdout",
     "output_type": "stream",
     "text": [
      "fisher_product 0.0006523086746188963\n"
     ]
    }
   ],
   "source": [
    "# Fisher methode\n",
    "\n",
    "\n",
    "# We define the Fisher test function\n",
    "\n",
    "def fisher_test(n_i, nu_i, V):\n",
    "    dof = 19\n",
    "    chi2 = np.sum((n_i - nu_i)**2 / V)\n",
    "    p = chi2.sf(chi2, dof)\n",
    "    return p\n",
    "\n",
    "\n",
    "\n",
    "\n",
    "\n",
    "fisher_product = p1 * p2 * (1 - np.log(p1 * p2))\n",
    "\n",
    "\n",
    "print(\"fisher_product\", fisher_product)\n"
   ]
  },
  {
   "cell_type": "code",
   "execution_count": 27,
   "metadata": {},
   "outputs": [
    {
     "data": {
      "text/plain": [
       "15.907568768302669"
      ]
     },
     "execution_count": 27,
     "metadata": {},
     "output_type": "execute_result"
    }
   ],
   "source": [
    "\n",
    "\n",
    "# Using the law of error propagation, and using the chi2 \n",
    "\n",
    "def chi2_err(obs1, obs2):\n",
    "    return np.sum((obs1 - obs2)**2 / (obs1 + obs2))\n",
    "\n",
    "\n",
    "# This is just using the defintion of chi2. We look at the compatibility of the two data sets (we cant say one is different from the other in this case).\n",
    "chi2_err(obs1,obs2)\n",
    "\n"
   ]
  },
  {
   "cell_type": "code",
   "execution_count": null,
   "metadata": {},
   "outputs": [],
   "source": []
  }
 ],
 "metadata": {
  "kernelspec": {
   "display_name": "AdvancedDataAnalysis",
   "language": "python",
   "name": "python3"
  },
  "language_info": {
   "codemirror_mode": {
    "name": "ipython",
    "version": 3
   },
   "file_extension": ".py",
   "mimetype": "text/x-python",
   "name": "python",
   "nbconvert_exporter": "python",
   "pygments_lexer": "ipython3",
   "version": "3.11.4"
  },
  "orig_nbformat": 4
 },
 "nbformat": 4,
 "nbformat_minor": 2
}
